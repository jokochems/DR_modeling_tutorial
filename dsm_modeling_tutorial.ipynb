{
 "cells": [
  {
   "cell_type": "markdown",
   "metadata": {},
   "source": [
    "# Demand response modeling tutorial\n",
    "Welcome fellow oemof friends! :-)\n",
    "\n",
    "This tutorial will guide you through 3 examples for using the SinkDSM component in its current implementation (oemof v0.4.4):\n",
    "1. A simple example building everything from the sratch and for one modeling approach (the new \"DLR\" one)\n",
    "2. Introducing some functions and comparing approaches against each other (for the same very simple example).\n",
    "3. Setting up an exemplary investment model with the same functions.\n",
    "\n",
    "> **_Sections which can be skipped since they are important for processing but not the actual SinkDSM implementation in oemof.solph are marked the same as this line._** "
   ]
  },
  {
   "cell_type": "markdown",
   "metadata": {},
   "source": [
    "# Package Imports and plot settings\n",
    "\n",
    "> __*Feel free to skip that chapter*__\n",
    "\n",
    "Imports:\n",
    "* Standard imports\n",
    "* Import the different implementations for demand response components\n",
    "* Import module `plotting.py` for extracting results and visualization\n",
    "\n",
    "Plot settings:<br>\n",
    "* Register matplotlib converters.\n",
    "* Adjust matplotlib standard settings for graphs.\n",
    "* Create a directory to store graphs (if it doesn't already exist)."
   ]
  },
  {
   "cell_type": "code",
   "execution_count": null,
   "metadata": {},
   "outputs": [],
   "source": [
    "import pandas as pd\n",
    "import numpy as np\n",
    "\n",
    "import matplotlib.pyplot as plt\n",
    "from pandas.plotting import register_matplotlib_converters\n",
    "\n",
    "import oemof.solph as solph\n",
    "from oemof.network.network import Node\n",
    "\n",
    "# Import module for plotting (results handling)\n",
    "import plotting as plt_dsm"
   ]
  },
  {
   "cell_type": "code",
   "execution_count": null,
   "metadata": {},
   "outputs": [],
   "source": [
    "# Determine matplotlib settings\n",
    "register_matplotlib_converters()\n",
    "\n",
    "SMALL_SIZE = 11\n",
    "MEDIUM_SIZE = 14\n",
    "BIGGER_SIZE = 15\n",
    "\n",
    "plt.rc('font', size=SMALL_SIZE)          # controls default text sizes\n",
    "plt.rc('axes', titlesize=BIGGER_SIZE)    # fontsize of the axes title\n",
    "plt.rc('axes', labelsize=MEDIUM_SIZE)    # fontsize of the x and y labels\n",
    "plt.rc('xtick', labelsize=SMALL_SIZE)    # fontsize of the tick labels\n",
    "plt.rc('ytick', labelsize=SMALL_SIZE)    # fontsize of the tick labels\n",
    "plt.rc('legend', fontsize=SMALL_SIZE)    # legend fontsize\n",
    "plt.rc('figure', titlesize=BIGGER_SIZE)  # fontsize of the figure title"
   ]
  },
  {
   "cell_type": "code",
   "execution_count": null,
   "metadata": {},
   "outputs": [],
   "source": [
    "# Make folder for graphics\n",
    "plt_dsm.make_directory('graphics')"
   ]
  },
  {
   "cell_type": "markdown",
   "metadata": {},
   "source": [
    "# DSM parameter settings\n",
    "Define major **parameters concerning demand response modelling**\n",
    "* *aproaches*: List of the approaches used for demand response modelling.\n",
    "\n",
    "Determine **costs for demand response**:\n",
    "* *cost_dsm*: Overall variable costs for demand response which have to be splitted up to up and downwards shifts\n",
    "* *cost_dsm_up*: Costs for upwards shifts (_defaults to have of the overall costs_)\n",
    "* *cost_dsm_down*: Costs for downwards shifts (_defaults to have of the overall costs_)"
   ]
  },
  {
   "cell_type": "code",
   "execution_count": null,
   "metadata": {},
   "outputs": [],
   "source": [
    "# Parameters focussing on demand response modelling\n",
    "approaches = ['oemof', 'DIW', 'DLR']\n",
    "\n",
    "# Cost is split half on upwards and downwards shift; shedding gets high costs\n",
    "cost_dsm = 0.1\n",
    "cost_dsm_up = cost_dsm/2\n",
    "cost_dsm_down_shift = cost_dsm/2\n",
    "cost_dsm_down_shed = 1000 * cost_dsm"
   ]
  },
  {
   "cell_type": "markdown",
   "metadata": {},
   "source": [
    "# Toy energy system model\n",
    "For this tutorial, a **toy energy system** is set up including:\n",
    "- Coal PP\n",
    "- Wind PP\n",
    "- DSM Sink\n",
    "- shortage\n",
    "- excess\n",
    "\n",
    "**Rules for DSM parametrization**:\n",
    "\n",
    "The following rules apply for parameters which are not part of every modelling approach:<br>\n",
    "* shift (resp. interference) times: These will be defined half of the delay time and symmetrical in the first place.\n",
    "\n",
    "**_Please change to your solver of choice!_**"
   ]
  },
  {
   "cell_type": "code",
   "execution_count": null,
   "metadata": {},
   "outputs": [],
   "source": [
    "solver = 'cbc'\n",
    "datetimeindex = pd.date_range(start='1/1/2013', periods=9, freq='H')"
   ]
  },
  {
   "cell_type": "markdown",
   "metadata": {},
   "source": [
    "## Create generation and load data set for toy model: Base data set\n",
    "* A basic data set for the toy model is defined in the following.\n",
    "* To analyze different behaviour of the modelling approaches, this data set is modified below."
   ]
  },
  {
   "cell_type": "code",
   "execution_count": null,
   "metadata": {},
   "outputs": [],
   "source": [
    "timesteps = 48\n",
    "\n",
    "# base data set\n",
    "demand = [100] * timesteps\n",
    "capup = [100] * timesteps\n",
    "capdo = [100] * timesteps\n",
    "wind = [100] * timesteps\n",
    " \n",
    "base = [demand, wind, capup, capdo]\n",
    "df_base = pd.DataFrame(list(zip(*base)))\n",
    "df_base.rename(columns={0:'demand_el',1:'wind', 2:'Cap_up', 3:'Cap_do'}, inplace=True)\n",
    "df_base['timestamp'] = pd.date_range(start='1/1/2013', periods=timesteps, freq='H')\n",
    "df_base.set_index('timestamp', drop=True, inplace=True)"
   ]
  },
  {
   "cell_type": "code",
   "execution_count": null,
   "metadata": {},
   "outputs": [],
   "source": [
    "plt_dsm.plot_case(data=df_base, case=\"base data set\")\n",
    "plt_dsm.plot_case_residual(data=df_base, case=\"base data set\")"
   ]
  },
  {
   "cell_type": "markdown",
   "metadata": {},
   "source": [
    "## Introduce a demand variation"
   ]
  },
  {
   "cell_type": "code",
   "execution_count": null,
   "metadata": {},
   "outputs": [],
   "source": [
    "case = 'simple'\n",
    "\n",
    "# Base data set\n",
    "df_data = df_base.copy()\n",
    "demand = [100] * timesteps\n",
    "\n",
    "# Manipulate demand\n",
    "demand[1:2] = [150]\n",
    "demand[5:6] = [50]\n",
    "\n",
    "df_data['demand_el'] = demand\n",
    "df_data['Cap_up'] = [100] * timesteps + df_data['Cap_up'] - df_data['demand_el']\n",
    "df_data['Cap_do'] = [100] * timesteps + df_data['demand_el'] - df_data['Cap_do']"
   ]
  },
  {
   "cell_type": "code",
   "execution_count": null,
   "metadata": {},
   "outputs": [],
   "source": [
    "plt_dsm.plot_case(data=df_data, case=case)\n",
    "plt_dsm.plot_case_residual(data=df_data, case=case)"
   ]
  },
  {
   "cell_type": "markdown",
   "metadata": {},
   "source": [
    "# Example 1: Define an energy system, add demand response to it and evaluate the resuls"
   ]
  },
  {
   "cell_type": "markdown",
   "metadata": {},
   "source": [
    "## Step 1: Create an energy system"
   ]
  },
  {
   "cell_type": "code",
   "execution_count": null,
   "metadata": {},
   "outputs": [],
   "source": [
    "# Create Energy System\n",
    "es = solph.EnergySystem(timeindex=datetimeindex)\n",
    "\n",
    "Node.registry = es\n",
    "\n",
    "# Create Buses\n",
    "b_coal_1 = solph.Bus(label='bus_coal_1')\n",
    "b_elec = solph.Bus(label='bus_elec')\n",
    "\n",
    "# Create Sources\n",
    "s_coal_p1 = solph.Source(label='source_coal_p1',\n",
    "                         outputs={\n",
    "                             b_coal_1: solph.Flow(\n",
    "                                 nominal_value=10000,\n",
    "                                 variable_costs=13)}\n",
    "                        ) \n",
    "\n",
    "s_wind = solph.Source(label='wind',\n",
    "                      outputs={\n",
    "                          b_elec: solph.Flow(\n",
    "                              fix=df_data['wind'][datetimeindex],\n",
    "                              nominal_value=1)}\n",
    "                      )\n",
    "\n",
    "# Create Transformers\n",
    "cfp_1 = solph.Transformer(label='pp_coal_1',\n",
    "                          inputs={b_coal_1: solph.Flow()},\n",
    "                          outputs={\n",
    "                                b_elec: solph.Flow(\n",
    "                                    variable_costs=0)},\n",
    "                          conversion_factors={b_elec: 0.4}\n",
    "                         )\n",
    "\n",
    "# Backup excess / shortage\n",
    "excess = solph.Sink(label='excess_el',\n",
    "                    inputs={b_elec: solph.Flow(variable_costs=1)}\n",
    "                    )\n",
    "\n",
    "s_shortage_el = solph.Source(label='shortage_el',\n",
    "                             outputs={\n",
    "                                 b_elec: solph.Flow(\n",
    "                                     variable_costs=200)}\n",
    "                             )"
   ]
  },
  {
   "cell_type": "markdown",
   "metadata": {},
   "source": [
    "## Step 2: Add demand response to the energy system"
   ]
  },
  {
   "cell_type": "code",
   "execution_count": null,
   "metadata": {},
   "outputs": [],
   "source": [
    "demand_dsm = solph.custom.SinkDSM(\n",
    "    label = 'demand_dsm',\n",
    "    demand = df_data['demand_el'][datetimeindex],\n",
    "    capacity_up = df_data['Cap_up'][datetimeindex],\n",
    "    capacity_down = df_data['Cap_do'][datetimeindex],\n",
    "    approach = \"DLR\", \n",
    "    inputs = {b_elec: solph.Flow(variable_costs=0)},\n",
    "    delay_time = 4,  # TODO: Rename! compensation_time\n",
    "    cost_dsm_up = cost_dsm_up,\n",
    "    cost_dsm_down_shift = cost_dsm_down_shift,\n",
    "    shed_eligibility = False,\n",
    "    max_demand = 1,\n",
    "    max_capacity_up = 1,\n",
    "    max_capacity_down = 1,\n",
    "    shift_time = 2,\n",
    ")"
   ]
  },
  {
   "cell_type": "markdown",
   "metadata": {},
   "source": [
    "## Step 3: Solve and inspect the results"
   ]
  },
  {
   "cell_type": "code",
   "execution_count": null,
   "metadata": {},
   "outputs": [],
   "source": [
    "model = solph.Model(es)\n",
    "\n",
    "# Solve Model\n",
    "model.solve(solver='cbc', solve_kwargs={'tee': False})\n",
    "\n",
    "es.results['main'] = solph.processing.results(model)\n",
    "es.results['meta'] = solph.processing.meta_results(model)"
   ]
  },
  {
   "cell_type": "markdown",
   "metadata": {},
   "source": [
    "## Extract model results and plot the model\n",
    "A function is defined here to extract results from the model and plot the model results."
   ]
  },
  {
   "cell_type": "code",
   "execution_count": null,
   "metadata": {},
   "outputs": [],
   "source": [
    "def extract_and_plot_results(data, datetimeindex, model, es, approach, case, invest, **kwargs):\n",
    "    \"\"\"Extract model results and plot them. \"\"\"\n",
    "    \n",
    "    directory = \"./\"\n",
    "    project = 'demand_shift_' + approach + '_' + case\n",
    "    save = kwargs.get('save', False)\n",
    "    figure_size = kwargs.get('figsize', (15,10))\n",
    "    ax1_ylim = kwargs.get('ax1_ylim', [-10, 250])\n",
    "    ax2_ylim = kwargs.get('ax2_ylim', [-110, 150])\n",
    "    include_generators = kwargs.get('include_generators', False)\n",
    "    \n",
    "    max_demand = data['demand_el'][datetimeindex].max()\n",
    "    max_capacity_down = data['Cap_do'][datetimeindex].max()\n",
    "    max_capacity_up = data['Cap_up'][datetimeindex].max()\n",
    "    \n",
    "    # Export data\n",
    "    if invest:\n",
    "        df_gesamt, dsm_invest = plt_dsm.extract_results(model, approach, \n",
    "                                                        invest=invest)     \n",
    "    else:\n",
    "        df_gesamt = plt_dsm.extract_results(model, approach, \n",
    "                                            invest=invest,\n",
    "                                            normalized=kwargs.get(\"normalized\", True),\n",
    "                                            max_demand=max_demand,\n",
    "                                            max_capacity_down=max_capacity_down,\n",
    "                                            max_capacity_up=max_capacity_up)\n",
    "    \n",
    "    #  Plot Results\n",
    "    plt_dsm.plot_dsm(df_gesamt,\n",
    "            directory,\n",
    "            project,\n",
    "            days=2,\n",
    "            show=True,\n",
    "            figsize=figure_size,\n",
    "            ax1_ylim=ax1_ylim,\n",
    "            ax2_ylim=ax2_ylim,\n",
    "            include_generators=include_generators,\n",
    "            approach=approach,\n",
    "            save=save)\n",
    "\n",
    "    if invest: \n",
    "        return df_gesamt, dsm_invest\n",
    "    else:\n",
    "        return df_gesamt"
   ]
  },
  {
   "cell_type": "code",
   "execution_count": null,
   "metadata": {},
   "outputs": [],
   "source": [
    "df_gesamt = extract_and_plot_results(data=df_data,\n",
    "                                     datetimeindex=datetimeindex,\n",
    "                                     model=model,\n",
    "                                     es=es,\n",
    "                                     approach=\"DLR\", \n",
    "                                     case=\"simple\",\n",
    "                                     invest=False,\n",
    "                                     normalized=False)"
   ]
  },
  {
   "cell_type": "code",
   "execution_count": null,
   "metadata": {},
   "outputs": [],
   "source": [
    "df_gesamt"
   ]
  },
  {
   "cell_type": "code",
   "execution_count": null,
   "metadata": {},
   "outputs": [],
   "source": [
    "# Option to inspect the results and constraints for the SinkDSM (uncomment line below if you are not afraid of cryptic pyomo output ;-))\n",
    "#model.SinkDSMDLRBlock.pprint()"
   ]
  },
  {
   "cell_type": "markdown",
   "metadata": {},
   "source": [
    "# Example 2: Compare approaches and introduce functions for reusability\n",
    "* The following section first introduces some function definitions enabling to evaluate the SinkDSM for arbitrary load and generation patterns.\n",
    "* Then, the functions are called in a for loop iterating over all of the approaches.\n",
    "* This method has been applied in a very similar manner to compile the INREC 2020 results, see\n",
    "    * Slides: https://github.com/jokochems/DR_modeling_oemof/blob/master/Kochems_Demand_Response_INREC.pdf and\n",
    "    * Code: https://github.com/jokochems/DR_modeling_oemof/blob/master/INREC_examples/DSM-Modelling-Example.ipynb\n",
    "\n",
    "## Create and solve the model\n",
    "A function is defined here for setting up a toy energy system."
   ]
  },
  {
   "cell_type": "code",
   "execution_count": null,
   "metadata": {},
   "outputs": [],
   "source": [
    "def create_energy_system(data, datetimeindex, invest, approach, \n",
    "                         delay_time, shed_time, cost_dsm_up, cost_dsm_down_shift, cost_dsm_down_shed,\n",
    "                         efficiency, shed_eligibility, shift_eligibility,\n",
    "                         **kwargs):\n",
    "    \"\"\"Set up an example energy system. \"\"\"\n",
    "    \n",
    "    # Control generation units\n",
    "    nom_cap_coal = kwargs.get('nom_cap_coal', 10000)\n",
    "    \n",
    "    # Create Energy System\n",
    "    es = solph.EnergySystem(timeindex=datetimeindex) \n",
    "    \n",
    "    Node.registry = es\n",
    "\n",
    "    # Create Buses\n",
    "    b_coal_1 = solph.Bus(label='bus_coal_1')\n",
    "    b_elec = solph.Bus(label='bus_elec')\n",
    "\n",
    "    # Create Sources\n",
    "    s_coal_p1 = solph.Source(label='source_coal_p1',\n",
    "                             outputs={\n",
    "                                 b_coal_1: solph.Flow(\n",
    "                                     nominal_value=nom_cap_coal,\n",
    "                                     variable_costs=13)}\n",
    "                            ) \n",
    "\n",
    "    s_wind = solph.Source(label='wind',\n",
    "                          outputs={\n",
    "                              b_elec: solph.Flow(\n",
    "                                  fix=data['wind'][datetimeindex],\n",
    "                                  nominal_value=1)}\n",
    "                          )\n",
    "\n",
    "    # Create Transformers\n",
    "    cfp_1 = solph.Transformer(label='pp_coal_1',\n",
    "                              inputs={b_coal_1: solph.Flow()},\n",
    "                              outputs={\n",
    "                                    b_elec: solph.Flow(\n",
    "                                        variable_costs=0)},\n",
    "                              conversion_factors={b_elec: 0.4}\n",
    "                             )\n",
    "\n",
    "    # Backup excess / shortage\n",
    "    excess = solph.Sink(label='excess_el',\n",
    "                        inputs={b_elec: solph.Flow(variable_costs=1)}\n",
    "                        )\n",
    "\n",
    "    s_shortage_el = solph.Source(label='shortage_el',\n",
    "                                 outputs={\n",
    "                                     b_elec: solph.Flow(\n",
    "                                         variable_costs=200)}\n",
    "                                 )\n",
    "    \n",
    "    # Add DSM units\n",
    "    add_dsm_unit(b_elec, data, datetimeindex, invest, approach, delay_time, shed_time, cost_dsm_up, cost_dsm_down_shift, \n",
    "                 cost_dsm_down_shed, efficiency, shed_eligibility, shift_eligibility, **kwargs)\n",
    "    \n",
    "    return es"
   ]
  },
  {
   "cell_type": "markdown",
   "metadata": {},
   "source": [
    "A separate function holds the (general) DSM representation which is added to the energy system."
   ]
  },
  {
   "cell_type": "code",
   "execution_count": null,
   "metadata": {},
   "outputs": [],
   "source": [
    "def add_dsm_unit(b_elec, data, datetimeindex, invest, approach, delay_time, shed_time, cost_dsm_up, cost_dsm_down_shift, \n",
    "                 cost_dsm_down_shed, efficiency, shed_eligibility, shift_eligibility, **kwargs): \n",
    "    \"\"\"Add dsm units to the energy system. \"\"\"\n",
    "    \n",
    "    # DSM parameters\n",
    "    recovery_time_shift = kwargs.get('recovery_time_shift', None)\n",
    "    recovery_time_shed = kwargs.get('recovery_time_shed', 24)\n",
    "    shift_time = kwargs.get('shift_time', delay_time/2)  \n",
    "    addition = kwargs.get('addition', True)\n",
    "    fixes = kwargs.get('fixes', True)\n",
    "    ActivateYearLimit = kwargs.get('ActivateYearLimit', False)\n",
    "    ActivateDayLimit = kwargs.get('ActivateDayLimit', False)\n",
    "    \n",
    "    # Investment modeling\n",
    "    max_demand = kwargs.get('max_demand', None)\n",
    "    max_capacity_down = kwargs.get('max_capacity_down', None)\n",
    "    max_capacity_up = kwargs.get('max_capacity_up', None)\n",
    "    flex_share_down = kwargs.get('flex_share_down', None)\n",
    "    flex_share_up = kwargs.get('flex_share_up', None)\n",
    "    ep_costs = kwargs.get('ep_costs', 1000)\n",
    "    minimum = kwargs.get('minimum', 0)\n",
    "    maximum = kwargs.get('maximum', 200)\n",
    "    existing = kwargs.get('existing', 0)\n",
    "    \n",
    "    # Define kwargs that differ dependent on approach chosen   \n",
    "    if invest:\n",
    "        max_demand = None\n",
    "        max_capacity_down = None\n",
    "        max_capacity_up = None\n",
    "    else:\n",
    "        max_demand = data['demand_el'][datetimeindex].max()\n",
    "        max_capacity_down = data['Cap_do'][datetimeindex].max()\n",
    "        max_capacity_up = data['Cap_up'][datetimeindex].max()\n",
    "\n",
    "    # Define kwargs that are identical for all DSM units\n",
    "    kwargs_all = {'label': 'demand_dsm',\n",
    "                  'inputs': {b_elec: solph.Flow(variable_costs=0)},\n",
    "                  'demand': data['demand_el'][datetimeindex],\n",
    "                  'capacity_up': data['Cap_up'][datetimeindex],\n",
    "                  'capacity_down': data['Cap_do'][datetimeindex],\n",
    "                  'delay_time': delay_time,\n",
    "                  'shed_time': shed_time,\n",
    "                  'recovery_time_shift': recovery_time_shift,\n",
    "                  'recovery_time_shed': recovery_time_shed,\n",
    "                  'cost_dsm_up': cost_dsm_up,\n",
    "                  'cost_dsm_down_shift': cost_dsm_down_shift,\n",
    "                  'cost_dsm_down_shed': cost_dsm_down_shed,\n",
    "                  'efficiency': efficiency,\n",
    "                  'shed_eligibility': shed_eligibility,\n",
    "                  'shift_eligibility': shift_eligibility,\n",
    "                  'max_demand': max_demand,\n",
    "                  'max_capacity_down': max_capacity_down,\n",
    "                  'max_capacity_up': max_capacity_up,\n",
    "                  'flex_share_down': flex_share_down,\n",
    "                  'flex_share_up': flex_share_up,\n",
    "                  'shift_time': shift_time}\n",
    "    \n",
    "    # Determine recovery / max activations / shed time dependent on each other\n",
    "    if recovery_time_shift is not None:\n",
    "        n_yearLimit_shift = kwargs.get('n_yearLimit_shift', \n",
    "                                       len(data.loc[datetimeindex,:]) // (delay_time + recovery_time_shift))\n",
    "    else:\n",
    "        n_yearLimit_shift = kwargs.get('n_yearLimit_shift', \n",
    "                                       len(data.loc[datetimeindex,:]) // delay_time)\n",
    "    \n",
    "    if recovery_time_shed is not None:\n",
    "        n_yearLimit_shed = kwargs.get('n_yearLimit_shed', \n",
    "                                      len(data.loc[datetimeindex,:]) // (shed_time + recovery_time_shed))\n",
    "    else:\n",
    "        n_yearLimit_shed = kwargs.get('n_yearLimit_shed', \n",
    "                                      len(data.loc[datetimeindex,:]) // shed_time)\n",
    "    t_dayLimit = kwargs.get('t_dayLimit', 0) \n",
    "    \n",
    "    # Use a dict to store the keywords that differ by approach\n",
    "    kwargs_dict = {\n",
    "        'oemof': {'approach': approach,\n",
    "                  'shift_interval': kwargs.get('shift_interval', 24)},\n",
    "\n",
    "        'DIW': {'approach': approach},\n",
    "        \n",
    "        'DLR': {'approach': approach,\n",
    "                'ActivateYearLimit': ActivateYearLimit,\n",
    "                'ActivateDayLimit': ActivateDayLimit,\n",
    "                'n_yearLimit_shift': n_yearLimit_shift,\n",
    "                'n_yearLimit_shed': n_yearLimit_shed,\n",
    "                't_dayLimit': t_dayLimit,\n",
    "                'addition': addition,\n",
    "                'fixes': fixes}\n",
    "    }\n",
    "    \n",
    "    if invest:\n",
    "        maximum_wind = data['wind'][datetimeindex].max()\n",
    "        maximum_demand = kwargs_all['demand'].max()\n",
    "        max_used_for_normalization = max(maximum_wind, maximum_demand)\n",
    "    \n",
    "    # Update some kwargs since they have been changed (i.e. normalized) for investment modeling\n",
    "    kwargs_all_invest = kwargs_all.copy()\n",
    "    if not invest:\n",
    "        kwargs_all_invest['demand'] = kwargs_all['demand'].div(kwargs_all['demand'].max())\n",
    "    else:\n",
    "        kwargs_all_invest['demand'] = kwargs_all['demand'].div(max_used_for_normalization)\n",
    "        kwargs_all_invest['max_demand'] = None\n",
    "        kwargs_all_invest['max_capacity_down'] = None\n",
    "        kwargs_all_invest['max_capacity_up'] = None\n",
    "\n",
    "    kwargs_all_invest['capacity_up'] = kwargs_all['capacity_up'].div(kwargs_all['capacity_up'].max())\n",
    "    kwargs_all_invest['capacity_down'] = kwargs_all['capacity_down'].div(kwargs_all['capacity_down'].max())\n",
    "    \n",
    "    # Actually build the units\n",
    "    if approach in [\"DIW\", \"oemof\", \"DLR\"]:\n",
    "        \n",
    "        if not invest:\n",
    "            demand_dsm = solph.custom.SinkDSM(**kwargs_all_invest,\n",
    "                                        **kwargs_dict[approach])\n",
    "        else:\n",
    "            demand_dsm = solph.custom.SinkDSM(**kwargs_all_invest,\n",
    "                                        **kwargs_dict[approach],\n",
    "                                        investment=solph.options.Investment(\n",
    "                                             existing=existing,\n",
    "                                             minimum=minimum,\n",
    "                                             maximum=maximum,\n",
    "                                             ep_costs=ep_costs))"
   ]
  },
  {
   "cell_type": "markdown",
   "metadata": {},
   "source": [
    "A function serves to create and solve the optimization model and store the results."
   ]
  },
  {
   "cell_type": "code",
   "execution_count": null,
   "metadata": {},
   "outputs": [],
   "source": [
    "def solve_model(es, solver='cbc'):\n",
    "    \"\"\"Create and optimization model and solve it. Return the solved model and its energy system. \"\"\"\n",
    "    \n",
    "    # Create Model\n",
    "    model = solph.Model(es)\n",
    "\n",
    "    # Solve Model\n",
    "    model.solve(solver=solver, solve_kwargs={'tee': False})\n",
    "\n",
    "    # Save Results\n",
    "    es.results['main'] = solph.processing.results(model)\n",
    "    es.results['meta'] = solph.processing.meta_results(model)\n",
    "\n",
    "    return model, es"
   ]
  },
  {
   "cell_type": "code",
   "execution_count": null,
   "metadata": {},
   "outputs": [],
   "source": [
    "# Store the results (pd.DataFrame) in a dict, indexed by approaches\n",
    "approach_dict = {}\n",
    "\n",
    "for approach in approaches:\n",
    "    es = create_energy_system(data=df_data, \n",
    "                              datetimeindex=datetimeindex, \n",
    "                              invest=False, \n",
    "                              approach=approach, \n",
    "                              delay_time=4, \n",
    "                              shed_time=2, \n",
    "                              cost_dsm_up=cost_dsm_up, \n",
    "                              cost_dsm_down_shift=cost_dsm_down_shift, \n",
    "                              cost_dsm_down_shed=cost_dsm_down_shed,\n",
    "                              efficiency=1, \n",
    "                              shed_eligibility=False, \n",
    "                              shift_eligibility=True)\n",
    "\n",
    "    model, es = solve_model(es, solver=solver)\n",
    "\n",
    "    approach_dict[approach] = extract_and_plot_results(data=df_data,\n",
    "                                                       datetimeindex=datetimeindex, \n",
    "                                                       model=model,\n",
    "                                                       es=es, \n",
    "                                                       approach=approach, \n",
    "                                                       case=\"simple\", \n",
    "                                                       invest=False)"
   ]
  },
  {
   "cell_type": "markdown",
   "metadata": {},
   "source": [
    "# Example 3: Model investments in demand response\n",
    "This example builds up on the previous one.\n",
    "* The boolean parameter invest is set to True, thus an optimized amount of investments in demand response should occur.\n",
    "* Some additional attributes need to be defined for modeling investments.\n",
    "* We attribute demand response with very low investment expenses, i.e. low ep_costs.\n",
    "* As demand response is the cheapest option to balance residual load in that toy system, we expect the same behaviour as in the above dispatch example ... Let's check that!"
   ]
  },
  {
   "cell_type": "code",
   "execution_count": null,
   "metadata": {},
   "outputs": [],
   "source": [
    "# Store the results (pd.DataFrame) in a dict, indexed by approaches\n",
    "approach_dict = {}\n",
    "\n",
    "for approach in approaches:\n",
    "    es = create_energy_system(data=df_data, \n",
    "                              datetimeindex=datetimeindex, \n",
    "                              invest=True, \n",
    "                              approach=approach, \n",
    "                              delay_time=4, \n",
    "                              shed_time=2, \n",
    "                              cost_dsm_up=cost_dsm_up, \n",
    "                              cost_dsm_down_shift=cost_dsm_down_shift, \n",
    "                              cost_dsm_down_shed=cost_dsm_down_shed,\n",
    "                              efficiency=1, \n",
    "                              shed_eligibility=False, \n",
    "                              shift_eligibility=True,\n",
    "                              flex_share_up=1,\n",
    "                              flex_share_down=1,\n",
    "                              ep_costs=0.001,\n",
    "                              existing=0,\n",
    "                              minimum=0,\n",
    "                              maximum=200)\n",
    "\n",
    "    model, es = solve_model(es, solver=solver)\n",
    "\n",
    "    approach_dict[approach] = extract_and_plot_results(data=df_data,\n",
    "                                                       datetimeindex=datetimeindex, \n",
    "                                                       model=model,\n",
    "                                                       es=es, \n",
    "                                                       approach=approach, \n",
    "                                                       case=\"simple\", \n",
    "                                                       invest=True)"
   ]
  },
  {
   "cell_type": "code",
   "execution_count": null,
   "metadata": {},
   "outputs": [],
   "source": [
    "for k, v in approach_dict.items():\n",
    "    print(f\"Investments in demand response for approach {k}: \\t{v[1]} MW of installed capacity.\")"
   ]
  },
  {
   "cell_type": "code",
   "execution_count": null,
   "metadata": {},
   "outputs": [],
   "source": []
  }
 ],
 "metadata": {
  "kernelspec": {
   "display_name": "Python 3 (ipykernel)",
   "language": "python",
   "name": "python3"
  },
  "language_info": {
   "codemirror_mode": {
    "name": "ipython",
    "version": 3
   },
   "file_extension": ".py",
   "mimetype": "text/x-python",
   "name": "python",
   "nbconvert_exporter": "python",
   "pygments_lexer": "ipython3",
   "version": "3.8.13"
  },
  "pycharm": {
   "stem_cell": {
    "cell_type": "raw",
    "metadata": {
     "collapsed": false
    },
    "source": []
   }
  },
  "toc": {
   "base_numbering": 1,
   "nav_menu": {},
   "number_sections": true,
   "sideBar": true,
   "skip_h1_title": false,
   "title_cell": "Table of Contents",
   "title_sidebar": "Contents",
   "toc_cell": false,
   "toc_position": {
    "height": "calc(100% - 180px)",
    "left": "10px",
    "top": "150px",
    "width": "313.667px"
   },
   "toc_section_display": true,
   "toc_window_display": true
  },
  "toc-autonumbering": true,
  "varInspector": {
   "cols": {
    "lenName": 16,
    "lenType": 16,
    "lenVar": 40
   },
   "kernels_config": {
    "python": {
     "delete_cmd_postfix": "",
     "delete_cmd_prefix": "del ",
     "library": "var_list.py",
     "varRefreshCmd": "print(var_dic_list())"
    },
    "r": {
     "delete_cmd_postfix": ") ",
     "delete_cmd_prefix": "rm(",
     "library": "var_list.r",
     "varRefreshCmd": "cat(var_dic_list()) "
    }
   },
   "types_to_exclude": [
    "module",
    "function",
    "builtin_function_or_method",
    "instance",
    "_Feature"
   ],
   "window_display": false
  }
 },
 "nbformat": 4,
 "nbformat_minor": 4
}
